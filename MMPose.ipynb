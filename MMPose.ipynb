{
  "nbformat": 4,
  "nbformat_minor": 0,
  "metadata": {
    "colab": {
      "provenance": [],
      "private_outputs": true,
      "gpuType": "T4",
      "authorship_tag": "ABX9TyNHasiZFPeBocDYqZypJMtn",
      "include_colab_link": true
    },
    "kernelspec": {
      "name": "python3",
      "display_name": "Python 3"
    },
    "language_info": {
      "name": "python"
    },
    "accelerator": "GPU"
  },
  "cells": [
    {
      "cell_type": "markdown",
      "metadata": {
        "id": "view-in-github",
        "colab_type": "text"
      },
      "source": [
        "<a href=\"https://colab.research.google.com/github/Kaiyuan-Tan/HW1/blob/main/MMPose.ipynb\" target=\"_parent\"><img src=\"https://colab.research.google.com/assets/colab-badge.svg\" alt=\"Open In Colab\"/></a>"
      ]
    },
    {
      "cell_type": "code",
      "source": [
        "!pip3 install install torch==1.11.0+cu113 torchvision==0.12.0+cu113 torchaudio==0.11.0+cu113 -f https://download.pytorch.org/whl/cu113/torch_stable.html"
      ],
      "metadata": {
        "id": "XXf1c0jxkGlP"
      },
      "execution_count": null,
      "outputs": []
    },
    {
      "cell_type": "code",
      "source": [
        "!pwd"
      ],
      "metadata": {
        "id": "KeIDNOJvHcBk"
      },
      "execution_count": null,
      "outputs": []
    },
    {
      "cell_type": "code",
      "source": [
        "!pip install -U openmim\n",
        "!mim install mmengine\n",
        "!mim install 'mmcv==2.0.0rc3'\n",
        "!mim install \"mmdet>=3.0.0rc6\""
      ],
      "metadata": {
        "id": "CH54zHyqplz6"
      },
      "execution_count": null,
      "outputs": []
    },
    {
      "cell_type": "code",
      "source": [
        "!pip install opencv-python pillow matplotlib seaborn tqdm pycocotools -i https://pypi.tuna.tsinghua.edu.cn/simple\n"
      ],
      "metadata": {
        "id": "gfq_3_XGrtjn"
      },
      "execution_count": null,
      "outputs": []
    },
    {
      "cell_type": "code",
      "source": [
        "!rm -rf mmpose\n"
      ],
      "metadata": {
        "id": "JbW9wjchrz3-"
      },
      "execution_count": null,
      "outputs": []
    },
    {
      "cell_type": "code",
      "source": [
        "!git clone https://github.com/open-mmlab/mmpose.git -b tutorial2023\n"
      ],
      "metadata": {
        "id": "tmlda0aSr5vf"
      },
      "execution_count": null,
      "outputs": []
    },
    {
      "cell_type": "code",
      "source": [
        "\n",
        "# 进入主目录\n",
        "import os\n",
        "os.chdir('mmpose')"
      ],
      "metadata": {
        "id": "0B5fEL3or_j3"
      },
      "execution_count": null,
      "outputs": []
    },
    {
      "cell_type": "code",
      "source": [
        "!mim install -e .\n"
      ],
      "metadata": {
        "id": "olEg8HWcsCeH"
      },
      "execution_count": null,
      "outputs": []
    },
    {
      "cell_type": "code",
      "source": [
        "import os\n",
        "\n",
        "# 创建 checkpoint 文件夹，用于存放预训练模型权重文件\n",
        "os.mkdir('checkpoint')\n",
        "\n",
        "# 创建 outputs 文件夹，用于存放预测结果\n",
        "os.mkdir('outputs')\n",
        "\n",
        "# 创建 data 文件夹，用于存放图片和视频素材\n",
        "os.mkdir('data')\n",
        "\n",
        "os.mkdir('data/test')"
      ],
      "metadata": {
        "id": "5vTOQt1dsUJu"
      },
      "execution_count": null,
      "outputs": []
    },
    {
      "cell_type": "code",
      "source": [
        "# 多人图片，来源：https://www.pexels.com/zh-cn/photo/2168292/\n",
        "!wget https://zihao-openmmlab.obs.cn-east-3.myhuaweicloud.com/20220610-mmpose/images/multi-person.jpeg -O data/test/multi-person.jpeg\n",
        "\n",
        "# 单人视频-唱跳篮球 \n",
        "!wget https://zihao-openmmlab.obs.myhuaweicloud.com/20220610-mmpose/videos/cxk.mp4 -P data/test\n",
        "\n",
        "# 妈妈和女儿跳舞，经微信压缩\n",
        "!wget https://zihao-openmmlab.obs.myhuaweicloud.com/20220610-mmpose/videos/mother_wx.mp4 -P data/test\n",
        "\n",
        "# 两个女生跳舞视频，来源：https://mixkit.co/free-stock-video/two-girls-having-fun-in-a-retro-restaurant-42298/\n",
        "!wget https://zihao-openmmlab.obs.cn-east-3.myhuaweicloud.com/20220610-mmpose/videos/two-girls.mp4 -O data/test/two-girls.mp4"
      ],
      "metadata": {
        "id": "1GY4v0fQtYcQ"
      },
      "execution_count": null,
      "outputs": []
    },
    {
      "cell_type": "code",
      "source": [
        "\n",
        "# 检查 Pytorch\n",
        "import torch, torchvision\n",
        "print('Pytorch 版本', torch.__version__)\n",
        "print('CUDA 是否可用',torch.cuda.is_available())"
      ],
      "metadata": {
        "id": "KfjVG1khtqbW"
      },
      "execution_count": null,
      "outputs": []
    },
    {
      "cell_type": "code",
      "source": [
        "# 检查 mmcv\n",
        "import mmcv\n",
        "from mmcv.ops import get_compiling_cuda_version, get_compiler_version\n",
        "print('MMCV版本', mmcv.__version__)\n",
        "print('CUDA版本', get_compiling_cuda_version())\n",
        "print('编译器版本', get_compiler_version())"
      ],
      "metadata": {
        "id": "hmhry5CNt3eA"
      },
      "execution_count": null,
      "outputs": []
    },
    {
      "cell_type": "code",
      "source": [
        "# 检查 mmpose\n",
        "import mmpose\n",
        "print('mmpose版本', mmpose.__version__)"
      ],
      "metadata": {
        "id": "cBrQvxfJzQ_A"
      },
      "execution_count": null,
      "outputs": []
    },
    {
      "cell_type": "code",
      "source": [
        "!pip install -U openmim\n",
        "!mim install mmcv-full\n",
        "!mim install mmengine\n",
        "!mim install 'mmcv==2.0.0rc3'\n",
        "!mim install \"mmdet>=3.0.0rc6\""
      ],
      "metadata": {
        "id": "P0MTi4Ymznhw"
      },
      "execution_count": null,
      "outputs": []
    },
    {
      "cell_type": "code",
      "source": [
        "!pip install opencv-python pillow matplotlib seaborn tqdm pycocotools -i https://pypi.tuna.tsinghua.edu.cn/simple\n"
      ],
      "metadata": {
        "id": "5nSRIWJKz2vX"
      },
      "execution_count": null,
      "outputs": []
    },
    {
      "cell_type": "code",
      "source": [
        "# 删掉原有的 mmdetection 文件夹（如有）\n",
        "!rm -rf mmdetection"
      ],
      "metadata": {
        "id": "TfurmKUmz7MO"
      },
      "execution_count": null,
      "outputs": []
    },
    {
      "cell_type": "code",
      "source": [
        "\n",
        "# 从 github 上下载最新的 mmdetection 源代码\n",
        "!git clone https://github.com/open-mmlab/mmdetection.git -b 3.x"
      ],
      "metadata": {
        "id": "DcQehvjrz8Ux"
      },
      "execution_count": null,
      "outputs": []
    },
    {
      "cell_type": "code",
      "source": [
        "# 进入主目录\n",
        "import os\n",
        "os.chdir('mmdetection')"
      ],
      "metadata": {
        "id": "UiE5C0Lt0CBv"
      },
      "execution_count": null,
      "outputs": []
    },
    {
      "cell_type": "code",
      "source": [
        "!pip install -v -e ."
      ],
      "metadata": {
        "id": "4OAU3E9h0EuX"
      },
      "execution_count": null,
      "outputs": []
    },
    {
      "cell_type": "code",
      "source": [
        "# 删掉原有的 mmdetection 文件夹（如有）\n",
        "!rm -rf mmdetection\n",
        "# 从 github 上下载最新的 mmdetection 源代码\n",
        "!git clone https://github.com/open-mmlab/mmdetection.git -b 3.x"
      ],
      "metadata": {
        "id": "AgYwbKPt0daC"
      },
      "execution_count": null,
      "outputs": []
    },
    {
      "cell_type": "code",
      "source": [
        "# 进入主目录\n",
        "import os\n",
        "os.chdir('mmdetection')"
      ],
      "metadata": {
        "id": "hJPoNNA50qLh"
      },
      "execution_count": null,
      "outputs": []
    },
    {
      "cell_type": "code",
      "source": [
        "!pip install -v -e .\n"
      ],
      "metadata": {
        "id": "dJ6-b_A30sIZ"
      },
      "execution_count": null,
      "outputs": []
    },
    {
      "cell_type": "code",
      "source": [
        "# 检查 Pytorch\n",
        "import torch, torchvision\n",
        "print('Pytorch 版本', torch.__version__)\n",
        "print('CUDA 是否可用',torch.cuda.is_available())"
      ],
      "metadata": {
        "id": "7NfBPnze3gy5"
      },
      "execution_count": null,
      "outputs": []
    },
    {
      "cell_type": "code",
      "source": [
        "# 检查 mmcv\n",
        "import mmcv\n",
        "from mmcv.ops import get_compiling_cuda_version, get_compiler_version\n",
        "print('MMCV版本', mmcv.__version__)\n",
        "print('CUDA版本', get_compiling_cuda_version())\n",
        "print('编译器版本', get_compiler_version())"
      ],
      "metadata": {
        "id": "Zcxh6BhD3noP"
      },
      "execution_count": null,
      "outputs": []
    },
    {
      "cell_type": "code",
      "source": [
        "!pip install -v -e .\n"
      ],
      "metadata": {
        "id": "XUKUaneT4GzJ"
      },
      "execution_count": null,
      "outputs": []
    },
    {
      "cell_type": "code",
      "source": [
        "# 检查 mmpose\n",
        "import mmdet\n",
        "print('mmdetection版本', mmdet.__version__)"
      ],
      "metadata": {
        "id": "6d4rh0KY4UcJ"
      },
      "execution_count": null,
      "outputs": []
    },
    {
      "cell_type": "code",
      "source": [
        "# 检查 mmcv\n",
        "import mmcv\n",
        "from mmcv.ops import get_compiling_cuda_version, get_compiler_version\n",
        "print('MMCV版本', mmcv.__version__)\n",
        "print('CUDA版本', get_compiling_cuda_version())\n",
        "print('编译器版本', get_compiler_version())"
      ],
      "metadata": {
        "id": "r8W67EvW4Xb6"
      },
      "execution_count": null,
      "outputs": []
    },
    {
      "cell_type": "code",
      "source": [
        "\n",
        "# 检查 Pytorch\n",
        "import torch, torchvision\n",
        "print('Pytorch 版本', torch.__version__)\n",
        "print('CUDA 是否可用',torch.cuda.is_available())"
      ],
      "metadata": {
        "id": "lYxidP1b4ZNo"
      },
      "execution_count": null,
      "outputs": []
    },
    {
      "cell_type": "code",
      "source": [],
      "metadata": {
        "id": "nqWvlKQk7NDf"
      },
      "execution_count": null,
      "outputs": []
    }
  ]
}